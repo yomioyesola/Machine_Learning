{
 "cells": [
  {
   "cell_type": "code",
   "execution_count": 2,
   "id": "aa19469c-a635-4d71-aade-535ecb9d59cf",
   "metadata": {},
   "outputs": [],
   "source": [
    "import pandas as pd\n",
    "import numpy as np\n",
    "import matplotlib.pyplot as plt\n",
    "import seaborn as sns\n",
    "\n",
    "%matplotlib inline"
   ]
  },
  {
   "cell_type": "markdown",
   "id": "7ba703ae-fa71-46eb-92d9-133f6228cb23",
   "metadata": {},
   "source": [
    "## Constants"
   ]
  },
  {
   "cell_type": "code",
   "execution_count": 3,
   "id": "714d7779-7ce1-4e83-b2e2-a44a669b7810",
   "metadata": {},
   "outputs": [],
   "source": [
    "TOKEN_SPAM_PROB_FILE = 'SpamData/03_Testing/prob-spam.txt'\n",
    "TOKEN_HAM_PROB_FILE = 'SpamData/03_Testing/prob-nonspam.txt'\n",
    "TOKEN_ALL_PROB_FILE = 'SpamData/03_Testing/prob-all-tokens.txt'\n",
    "\n",
    "TEST_FEATURE_MATRIX = 'SpamData/03_Testing/test-features.txt'\n",
    "TEST_TARGET_FILE = 'SpamData/03_Testing/test-target.txt'\n",
    "\n",
    "VOCAB_SIZE = 2500"
   ]
  },
  {
   "cell_type": "markdown",
   "id": "a40e05f5-d021-429a-8414-b429ce69999c",
   "metadata": {},
   "source": [
    "## Load the Data"
   ]
  },
  {
   "cell_type": "code",
   "execution_count": 6,
   "id": "91172afa-7794-4c16-882a-0dda67ccf306",
   "metadata": {},
   "outputs": [],
   "source": [
    "# Features\n",
    "X_test = np.loadtxt(TEST_FEATURE_MATRIX, delimiter=' ')\n",
    "\n",
    "# Target\n",
    "y_test = np.loadtxt(TEST_TARGET_FILE, delimiter=' ')\n",
    "\n",
    "# Token probabilities\n",
    "prob_token_spam = np.loadtxt(TOKEN_SPAM_PROB_FILE, delimiter=' ')\n",
    "prob_token_ham = np.loadtxt(TOKEN_HAM_PROB_FILE, delimiter=' ')\n",
    "prob_token_all = np.loadtxt(TOKEN_ALL_PROB_FILE, delimiter=' ')"
   ]
  },
  {
   "cell_type": "code",
   "execution_count": 7,
   "id": "294b9d44-1d9a-4ae4-bc8d-8cd1a404e7ab",
   "metadata": {},
   "outputs": [
    {
     "data": {
      "text/plain": [
       "array([[0., 0., 0., ..., 0., 0., 0.],\n",
       "       [0., 0., 0., ..., 0., 0., 0.],\n",
       "       [0., 0., 0., ..., 0., 0., 0.],\n",
       "       [0., 0., 0., ..., 0., 0., 0.],\n",
       "       [0., 0., 0., ..., 0., 0., 0.]])"
      ]
     },
     "execution_count": 7,
     "metadata": {},
     "output_type": "execute_result"
    }
   ],
   "source": [
    "X_test[:5]"
   ]
  },
  {
   "cell_type": "markdown",
   "id": "6b20c9d9-f4dc-412a-91e1-64df9a09ad8b",
   "metadata": {},
   "source": [
    "## Calculating the Joint Probabilities \n",
    "#### The Dot Product"
   ]
  },
  {
   "cell_type": "code",
   "execution_count": 14,
   "id": "5230501b-66fb-4c3b-b093-8613cf209b22",
   "metadata": {},
   "outputs": [
    {
     "name": "stdout",
     "output_type": "stream",
     "text": [
      "a =  [1 2 3 4]\n",
      "b =  [2 4 6 8]\n",
      "(4,)\n"
     ]
    }
   ],
   "source": [
    "a = np.array([1,2,3,4])\n",
    "b = np.array([2,4,6,8])\n",
    "print('a = ', a)\n",
    "print('b = ', b)\n",
    "print(a.shape)"
   ]
  },
  {
   "cell_type": "code",
   "execution_count": 9,
   "id": "ad4d94c1-a752-401b-9d81-5c21cc988e92",
   "metadata": {},
   "outputs": [
    {
     "data": {
      "text/plain": [
       "60"
      ]
     },
     "execution_count": 9,
     "metadata": {},
     "output_type": "execute_result"
    }
   ],
   "source": [
    "a.dot(b)"
   ]
  },
  {
   "cell_type": "code",
   "execution_count": 15,
   "id": "8bb21c9e-7b8f-49e7-9477-1aae83ed86ba",
   "metadata": {},
   "outputs": [
    {
     "name": "stdout",
     "output_type": "stream",
     "text": [
      "shape of c is (4, 2)\n",
      "[[0 6]\n",
      " [3 5]\n",
      " [9 2]\n",
      " [8 3]]\n"
     ]
    }
   ],
   "source": [
    "c= np.array([[0,6], [3, 5], [9,2], [8,3]])\n",
    "print('shape of c is', c.shape)\n",
    "print(c)"
   ]
  },
  {
   "cell_type": "code",
   "execution_count": 20,
   "id": "9de94898-5776-426a-905f-e71ac5576d3b",
   "metadata": {},
   "outputs": [
    {
     "name": "stdout",
     "output_type": "stream",
     "text": [
      "[65 34]\n",
      "shape of a.c is (2,)\n"
     ]
    }
   ],
   "source": [
    "print(a.dot(c))\n",
    "print('shape of a.c is', (a.dot(c).shape))"
   ]
  },
  {
   "cell_type": "markdown",
   "id": "2809e33a-fbda-42bb-ae58-764013227d61",
   "metadata": {},
   "source": [
    "**Challenge:** Figure out the dimensions of the dot product between X_test and prob_token_spam"
   ]
  },
  {
   "cell_type": "code",
   "execution_count": 21,
   "id": "079a26df-591d-4829-b4dc-69afe5f390e9",
   "metadata": {},
   "outputs": [
    {
     "data": {
      "text/plain": [
       "(5739, 2500)"
      ]
     },
     "execution_count": 21,
     "metadata": {},
     "output_type": "execute_result"
    }
   ],
   "source": [
    "X_test.shape"
   ]
  },
  {
   "cell_type": "code",
   "execution_count": 22,
   "id": "36ba8153-ae8a-4a1b-8646-9a859f029ef0",
   "metadata": {},
   "outputs": [
    {
     "data": {
      "text/plain": [
       "(2500,)"
      ]
     },
     "execution_count": 22,
     "metadata": {},
     "output_type": "execute_result"
    }
   ],
   "source": [
    "prob_token_spam.shape"
   ]
  },
  {
   "cell_type": "code",
   "execution_count": 24,
   "id": "f9072769-026e-458b-8d68-d33650bdfedf",
   "metadata": {},
   "outputs": [
    {
     "data": {
      "text/plain": [
       "(5739,)"
      ]
     },
     "execution_count": 24,
     "metadata": {},
     "output_type": "execute_result"
    }
   ],
   "source": [
    "X_test.dot(prob_token_spam).shape"
   ]
  },
  {
   "cell_type": "markdown",
   "id": "1e0baa68-656c-44ba-bb72-0a0fffb5b8ce",
   "metadata": {},
   "source": [
    "## Set the Prior\n",
    "\n",
    "$$P(Spam \\, | \\, X) = \\frac{P(X \\, | \\, Spam)\\, P(Spam)}{P(X)}$$"
   ]
  },
  {
   "cell_type": "code",
   "execution_count": 26,
   "id": "26a87805-5c43-4cdf-b4f1-ba7151279e4a",
   "metadata": {},
   "outputs": [],
   "source": [
    "PROB_SPAM = 0.3116 # from previous data"
   ]
  },
  {
   "cell_type": "markdown",
   "id": "bcf447b2-5d0b-49ad-b1d7-15c1de516025",
   "metadata": {},
   "source": [
    "**Challenge:** Calculate the log prob. of the tokens given that the email was spam. This was stored in prob_token_spam "
   ]
  },
  {
   "cell_type": "code",
   "execution_count": 28,
   "id": "0e939c12-6561-4fcb-997b-44da589133a0",
   "metadata": {},
   "outputs": [
    {
     "data": {
      "text/plain": [
       "array([ -4.70510889,  -5.32152228,  -4.98519763, ...,  -9.06126015,\n",
       "        -9.89416927, -10.81046   ])"
      ]
     },
     "execution_count": 28,
     "metadata": {},
     "output_type": "execute_result"
    }
   ],
   "source": [
    "np.log(prob_token_spam)"
   ]
  },
  {
   "cell_type": "markdown",
   "id": "a8ab8b2b-9d42-47ad-a8ed-a719cf668f80",
   "metadata": {},
   "source": [
    "## Joint Probability in Log format"
   ]
  },
  {
   "cell_type": "code",
   "execution_count": 42,
   "id": "bbcf63e1-7288-4e25-a033-f53ac2dcb58b",
   "metadata": {},
   "outputs": [
    {
     "data": {
      "text/plain": [
       "array([-1.16603496, -1.16603496, -1.16603496, -1.16603496, -1.16603496])"
      ]
     },
     "execution_count": 42,
     "metadata": {},
     "output_type": "execute_result"
    }
   ],
   "source": [
    "joint_log_spam = X_test.dot(np.log(prob_token_spam) - np.log(prob_token_all)) + np.log(PROB_SPAM)\n",
    "joint_log_spam[:5]"
   ]
  },
  {
   "cell_type": "markdown",
   "id": "5b82c8d5-d0d6-4a8a-97e3-ece211a329d2",
   "metadata": {},
   "source": [
    "**Challenge:** Calculate the log prob. that the emails are non-spam given thier tokens. Store the result in a variable called joint_log_ham"
   ]
  },
  {
   "cell_type": "markdown",
   "id": "db5ca5a8-e88f-4c2b-b2fc-046c8ce05088",
   "metadata": {},
   "source": [
    "$$P(Ham \\, | \\, X) = \\frac{P(X \\, | \\, Ham)\\, (1- P(Spam))}{P(X)}$$"
   ]
  },
  {
   "cell_type": "code",
   "execution_count": 37,
   "id": "ceae5d77-8887-4685-92ab-f0abfc5e75a3",
   "metadata": {},
   "outputs": [
    {
     "data": {
      "text/plain": [
       "array([-0.37338521, -0.37338521, -0.37338521, -0.37338521, -0.37338521])"
      ]
     },
     "execution_count": 37,
     "metadata": {},
     "output_type": "execute_result"
    }
   ],
   "source": [
    "joint_log_ham = X_test.dot(np.log(prob_token_ham) - np.log(prob_token_all)) + np.log(1 - PROB_SPAM)\n",
    "joint_log_ham[:5]"
   ]
  },
  {
   "cell_type": "code",
   "execution_count": 38,
   "id": "f17bf518-fe29-4135-a9aa-dcedbee05fff",
   "metadata": {},
   "outputs": [
    {
     "data": {
      "text/plain": [
       "5739"
      ]
     },
     "execution_count": 38,
     "metadata": {},
     "output_type": "execute_result"
    }
   ],
   "source": [
    "joint_log_ham.size"
   ]
  },
  {
   "cell_type": "markdown",
   "id": "1414087d-b37a-4ae7-b779-7d3763232f85",
   "metadata": {},
   "source": [
    "## Making Predictions\n",
    "### Checking for the higher joint prob\n",
    "$$P(Spam \\, | \\,X) \\, > \\, P(Ham \\, | \\, X)$$\n",
    "**<center>OR</center>**\n",
    "$$P(Spam \\, | \\,X) \\, < \\, P(Ham \\, | \\, X)$$"
   ]
  },
  {
   "cell_type": "markdown",
   "id": "b6f895d1-5d20-43df-8016-c17e7604f7e2",
   "metadata": {},
   "source": [
    "**Challenge:** Create the vector of predictions, our $\\hat y$? Remember the spam emails should have the value 1 (true) and non-spam emails should have the value 0 (false). Store your results in a variable called prediction"
   ]
  },
  {
   "cell_type": "code",
   "execution_count": 40,
   "id": "106338e0-423a-400b-930f-0abd9ac8070e",
   "metadata": {},
   "outputs": [
    {
     "data": {
      "text/plain": [
       "array([False, False, False, False, False])"
      ]
     },
     "execution_count": 40,
     "metadata": {},
     "output_type": "execute_result"
    }
   ],
   "source": [
    "prediction = joint_log_spam > joint_log_ham\n",
    "prediction[-5:]"
   ]
  },
  {
   "cell_type": "code",
   "execution_count": 41,
   "id": "1f3fe35f-398e-40f7-b4c7-138cebdf7d92",
   "metadata": {},
   "outputs": [
    {
     "data": {
      "text/plain": [
       "array([0., 0., 0., 0., 0.])"
      ]
     },
     "execution_count": 41,
     "metadata": {},
     "output_type": "execute_result"
    }
   ],
   "source": [
    "y_test[-5:]"
   ]
  },
  {
   "cell_type": "markdown",
   "id": "ca3589f8-c700-46cd-b39f-324845707921",
   "metadata": {},
   "source": [
    "## Simplify\n",
    "\n",
    "$$P(X \\, | \\, Spam) \\, P(Spam) != \\frac{P(X \\, | \\, Spam) \\, P(Spam)}{P(X)}$$"
   ]
  },
  {
   "cell_type": "code",
   "execution_count": 43,
   "id": "058cb7fd-1eae-49a9-81b9-906ab79d756a",
   "metadata": {},
   "outputs": [],
   "source": [
    "joint_log_spam = X_test.dot(np.log(prob_token_spam)) + np.log(PROB_SPAM)\n",
    "joint_log_ham = X_test.dot(np.log(prob_token_ham)) + np.log(1 - PROB_SPAM)"
   ]
  },
  {
   "cell_type": "markdown",
   "id": "419295dc-86b2-43af-9020-ad0052175f99",
   "metadata": {},
   "source": [
    "## Metrics and Evaluation\n",
    "\n",
    "### Accuracy"
   ]
  },
  {
   "cell_type": "code",
   "execution_count": 47,
   "id": "4c06dbfc-d0ff-44b5-8ee1-a44d44eebfc8",
   "metadata": {},
   "outputs": [
    {
     "name": "stdout",
     "output_type": "stream",
     "text": [
      "Docs classified correctly 5150\n",
      "Docs classified incorrectly: 589\n"
     ]
    }
   ],
   "source": [
    "correct_docs = (y_test == prediction).sum()\n",
    "print('Docs classified correctly', correct_docs)\n",
    "\n",
    "wrong_docs = X_test.shape[0] - correct_doc\n",
    "print('Docs classified incorrectly:', wrong_docs)"
   ]
  },
  {
   "cell_type": "code",
   "execution_count": 48,
   "id": "0e93162e-ef0c-44f1-b952-0bf6b8c3aa74",
   "metadata": {},
   "outputs": [
    {
     "data": {
      "text/plain": [
       "0.8973688795957484"
      ]
     },
     "execution_count": 48,
     "metadata": {},
     "output_type": "execute_result"
    }
   ],
   "source": [
    "# Accuracy\n",
    "\n",
    "correct_docs/len(X_test)"
   ]
  },
  {
   "cell_type": "code",
   "execution_count": 50,
   "id": "11e1822a-38ce-417b-b89b-ac7444b00ca2",
   "metadata": {},
   "outputs": [
    {
     "name": "stdout",
     "output_type": "stream",
     "text": [
      "Fraction classified incorrectly is 10.263112%\n",
      "Fraction classified correctly is 89.736888%\n"
     ]
    }
   ],
   "source": [
    "fraction_wrong = wrong_docs/len(X_test)\n",
    "print('Fraction classified incorrectly is {:2%}'.format(fraction_wrong))\n",
    "print('Fraction classified correctly is {:2%}'.format(1- fraction_wrong))"
   ]
  },
  {
   "cell_type": "markdown",
   "id": "573ccab8-1719-41d6-9860-4a31ef6d22ea",
   "metadata": {},
   "source": [
    "## Visualizing our Results"
   ]
  },
  {
   "cell_type": "code",
   "execution_count": 97,
   "id": "7fb05c65-eef0-4247-8002-d00e2854944e",
   "metadata": {},
   "outputs": [],
   "source": [
    "# Chart styling info\n",
    "yaxis_label = 'P(X | Spam)'\n",
    "xaxis_label = 'P(X | Nonspam)'\n",
    "\n",
    "linedata = np.linspace(start=-14000, stop=1, num=1000)"
   ]
  },
  {
   "cell_type": "code",
   "execution_count": 82,
   "id": "2326339e-96ef-4ff0-8d5a-287d9abdfb02",
   "metadata": {},
   "outputs": [
    {
     "data": {
      "image/png": "[encoded data removed]",
      "text/plain": [
       "<Figure size 792x504 with 1 Axes>"
      ]
     },
     "metadata": {
      "needs_background": "light"
     },
     "output_type": "display_data"
    }
   ],
   "source": [
    "plt.figure(figsize=(11, 7))\n",
    "plt.xlabel(xaxis_label, fontsize=14)\n",
    "plt.ylabel(yaxis_label, fontsize=14)\n",
    "\n",
    "#set scale\n",
    "plt.xlim([-100, 1])\n",
    "plt.ylim([-100, 1])\n",
    "\n",
    "plt.scatter(joint_log_ham, joint_log_spam, color='navy')\n",
    "plt.show()"
   ]
  },
  {
   "cell_type": "markdown",
   "id": "b28aebb2-a252-4496-b588-aad07226e6e5",
   "metadata": {},
   "source": [
    "## The Decision Boundary"
   ]
  },
  {
   "cell_type": "code",
   "execution_count": 103,
   "id": "d5186ec3-63d7-4e1d-9899-1b7a844d29b8",
   "metadata": {},
   "outputs": [
    {
     "data": {
      "image/png": "[encoded data removed]",
      "text/plain": [
       "<Figure size 792x504 with 1 Axes>"
      ]
     },
     "metadata": {
      "needs_background": "light"
     },
     "output_type": "display_data"
    }
   ],
   "source": [
    "plt.figure(figsize=(11, 7))\n",
    "plt.xlabel(xaxis_label, fontsize=14)\n",
    "plt.ylabel(yaxis_label, fontsize=14)\n",
    "\n",
    "#set scale\n",
    "#plt.xlim([-140, 1])\n",
    "#plt.ylim([-140, 1])\n",
    "\n",
    "plt.scatter(joint_log_ham, joint_log_spam, color='navy', alpha=0.5, s=25)\n",
    "plt.plot(linedata, linedata, color='orange')\n",
    "\n",
    "plt.show()"
   ]
  },
  {
   "cell_type": "code",
   "execution_count": null,
   "id": "0ded8985-90c2-4e9b-9635-5c851d936fda",
   "metadata": {},
   "outputs": [],
   "source": []
  }
 ],
 "metadata": {
  "kernelspec": {
   "display_name": "Python 3",
   "language": "python",
   "name": "python3"
  },
  "language_info": {
   "codemirror_mode": {
    "name": "ipython",
    "version": 3
   },
   "file_extension": ".py",
   "mimetype": "text/x-python",
   "name": "python",
   "nbconvert_exporter": "python",
   "pygments_lexer": "ipython3",
   "version": "3.8.8"
  }
 },
 "nbformat": 4,
 "nbformat_minor": 5
}
